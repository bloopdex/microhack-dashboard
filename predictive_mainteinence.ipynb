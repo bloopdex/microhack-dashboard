{
  "metadata": {
    "kernelspec": {
      "language": "python",
      "display_name": "Python 3",
      "name": "python3"
    },
    "language_info": {
      "name": "python",
      "version": "3.7.12",
      "mimetype": "text/x-python",
      "codemirror_mode": {
        "name": "ipython",
        "version": 3
      },
      "pygments_lexer": "ipython3",
      "nbconvert_exporter": "python",
      "file_extension": ".py"
    },
    "colab": {
      "provenance": []
    },
    "accelerator": "GPU",
    "gpuClass": "standard"
  },
  "nbformat_minor": 0,
  "nbformat": 4,
  "cells": [
    {
      "cell_type": "markdown",
      "source": [
        "Data Exploration"
      ],
      "metadata": {
        "id": "4EnBqqY5LMxj"
      }
    },
    {
      "cell_type": "code",
      "source": [
        "import numpy as np \n",
        "import pandas as pd \n",
        "from google.colab import drive"
      ],
      "metadata": {
        "id": "M_XfFynMMZh0"
      },
      "execution_count": null,
      "outputs": []
    },
    {
      "cell_type": "code",
      "source": [
        "drive.mount('/content/drive')"
      ],
      "metadata": {
        "colab": {
          "base_uri": "https://localhost:8080/"
        },
        "id": "Yr7ESLBDMx3t",
        "outputId": "48077a19-b0c5-431e-bdb2-5b63d51c1715"
      },
      "execution_count": null,
      "outputs": [
        {
          "output_type": "stream",
          "name": "stdout",
          "text": [
            "Mounted at /content/drive\n"
          ]
        }
      ]
    },
    {
      "cell_type": "code",
      "source": [
        "#Load data\n",
        "df = pd.read_csv('/content/drive/MyDrive/predictive_maintenance.csv')"
      ],
      "metadata": {
        "id": "Dkye4JuTM1pH"
      },
      "execution_count": null,
      "outputs": []
    },
    {
      "cell_type": "code",
      "source": [
        "df.shape"
      ],
      "metadata": {
        "execution": {
          "iopub.status.busy": "2023-03-03T11:11:27.430531Z",
          "iopub.execute_input": "2023-03-03T11:11:27.430910Z",
          "iopub.status.idle": "2023-03-03T11:11:27.438357Z",
          "shell.execute_reply.started": "2023-03-03T11:11:27.430876Z",
          "shell.execute_reply": "2023-03-03T11:11:27.437314Z"
        },
        "trusted": true,
        "colab": {
          "base_uri": "https://localhost:8080/"
        },
        "id": "8KL6HHEpLMxm",
        "outputId": "3e32590b-7a38-46c0-c538-d7ad003029cf"
      },
      "execution_count": null,
      "outputs": [
        {
          "output_type": "execute_result",
          "data": {
            "text/plain": [
              "(10000, 10)"
            ]
          },
          "metadata": {},
          "execution_count": 7
        }
      ]
    },
    {
      "cell_type": "code",
      "source": [
        "df.columns"
      ],
      "metadata": {
        "execution": {
          "iopub.status.busy": "2023-03-03T11:11:27.440260Z",
          "iopub.execute_input": "2023-03-03T11:11:27.440964Z",
          "iopub.status.idle": "2023-03-03T11:11:27.451955Z",
          "shell.execute_reply.started": "2023-03-03T11:11:27.440923Z",
          "shell.execute_reply": "2023-03-03T11:11:27.450845Z"
        },
        "trusted": true,
        "colab": {
          "base_uri": "https://localhost:8080/"
        },
        "id": "2IQT58W8LMxo",
        "outputId": "ce6abae2-378c-4e97-b339-60feea04e255"
      },
      "execution_count": null,
      "outputs": [
        {
          "output_type": "execute_result",
          "data": {
            "text/plain": [
              "Index(['UDI', 'Product ID', 'Type', 'Air temperature [K]',\n",
              "       'Process temperature [K]', 'Rotational speed [rpm]', 'Torque [Nm]',\n",
              "       'Tool wear [min]', 'Target', 'Failure Type'],\n",
              "      dtype='object')"
            ]
          },
          "metadata": {},
          "execution_count": 8
        }
      ]
    },
    {
      "cell_type": "code",
      "source": [
        "df.shape"
      ],
      "metadata": {
        "execution": {
          "iopub.status.busy": "2023-03-03T11:11:27.453808Z",
          "iopub.execute_input": "2023-03-03T11:11:27.454499Z",
          "iopub.status.idle": "2023-03-03T11:11:27.464902Z",
          "shell.execute_reply.started": "2023-03-03T11:11:27.454448Z",
          "shell.execute_reply": "2023-03-03T11:11:27.463418Z"
        },
        "trusted": true,
        "colab": {
          "base_uri": "https://localhost:8080/"
        },
        "id": "WIW5m7O6LMxo",
        "outputId": "9a3a3e34-6de9-4021-e32f-204ecce1e7cf"
      },
      "execution_count": null,
      "outputs": [
        {
          "output_type": "execute_result",
          "data": {
            "text/plain": [
              "(10000, 10)"
            ]
          },
          "metadata": {},
          "execution_count": 9
        }
      ]
    },
    {
      "cell_type": "code",
      "source": [
        "df.info()"
      ],
      "metadata": {
        "execution": {
          "iopub.status.busy": "2023-03-03T11:11:27.467284Z",
          "iopub.execute_input": "2023-03-03T11:11:27.468270Z",
          "iopub.status.idle": "2023-03-03T11:11:27.485014Z",
          "shell.execute_reply.started": "2023-03-03T11:11:27.468216Z",
          "shell.execute_reply": "2023-03-03T11:11:27.483780Z"
        },
        "trusted": true,
        "colab": {
          "base_uri": "https://localhost:8080/"
        },
        "id": "4ecZioU4LMxp",
        "outputId": "98309a7e-a75f-4f92-b57b-3d9daecb3f0c"
      },
      "execution_count": null,
      "outputs": [
        {
          "output_type": "stream",
          "name": "stdout",
          "text": [
            "<class 'pandas.core.frame.DataFrame'>\n",
            "RangeIndex: 10000 entries, 0 to 9999\n",
            "Data columns (total 10 columns):\n",
            " #   Column                   Non-Null Count  Dtype  \n",
            "---  ------                   --------------  -----  \n",
            " 0   UDI                      10000 non-null  int64  \n",
            " 1   Product ID               10000 non-null  object \n",
            " 2   Type                     10000 non-null  object \n",
            " 3   Air temperature [K]      10000 non-null  float64\n",
            " 4   Process temperature [K]  10000 non-null  float64\n",
            " 5   Rotational speed [rpm]   10000 non-null  int64  \n",
            " 6   Torque [Nm]              10000 non-null  float64\n",
            " 7   Tool wear [min]          10000 non-null  int64  \n",
            " 8   Target                   10000 non-null  int64  \n",
            " 9   Failure Type             10000 non-null  object \n",
            "dtypes: float64(3), int64(4), object(3)\n",
            "memory usage: 781.4+ KB\n"
          ]
        }
      ]
    },
    {
      "cell_type": "markdown",
      "source": [
        "Conclusion: we do not have any missing values in our dataset"
      ],
      "metadata": {
        "id": "ujbHX0VQLMxq"
      }
    },
    {
      "cell_type": "markdown",
      "source": [
        "Understanding the columns"
      ],
      "metadata": {
        "id": "8iWGoB6dLMxq"
      }
    },
    {
      "cell_type": "code",
      "source": [
        "len(df.UDI.unique())"
      ],
      "metadata": {
        "execution": {
          "iopub.status.busy": "2023-03-03T11:11:27.487305Z",
          "iopub.execute_input": "2023-03-03T11:11:27.488523Z",
          "iopub.status.idle": "2023-03-03T11:11:27.496052Z",
          "shell.execute_reply.started": "2023-03-03T11:11:27.488462Z",
          "shell.execute_reply": "2023-03-03T11:11:27.495023Z"
        },
        "trusted": true,
        "colab": {
          "base_uri": "https://localhost:8080/"
        },
        "id": "z77rZ6_YLMxq",
        "outputId": "8628646f-d254-456b-ee63-b838d0bfdb0b"
      },
      "execution_count": null,
      "outputs": [
        {
          "output_type": "execute_result",
          "data": {
            "text/plain": [
              "10000"
            ]
          },
          "metadata": {},
          "execution_count": 11
        }
      ]
    },
    {
      "cell_type": "markdown",
      "source": [
        "Let's have a look at unique values for each column"
      ],
      "metadata": {
        "id": "EIOkj-nALMxr"
      }
    },
    {
      "cell_type": "code",
      "source": [
        "df.apply(lambda c: len(c.unique()), axis = 0)"
      ],
      "metadata": {
        "execution": {
          "iopub.status.busy": "2023-03-03T11:11:27.502889Z",
          "iopub.execute_input": "2023-03-03T11:11:27.503319Z",
          "iopub.status.idle": "2023-03-03T11:11:27.517388Z",
          "shell.execute_reply.started": "2023-03-03T11:11:27.503278Z",
          "shell.execute_reply": "2023-03-03T11:11:27.516381Z"
        },
        "trusted": true,
        "colab": {
          "base_uri": "https://localhost:8080/"
        },
        "id": "-oDp-IFJLMxr",
        "outputId": "6d787062-244f-46aa-e28d-b829dd842d0c"
      },
      "execution_count": null,
      "outputs": [
        {
          "output_type": "execute_result",
          "data": {
            "text/plain": [
              "UDI                        10000\n",
              "Product ID                 10000\n",
              "Type                           3\n",
              "Air temperature [K]           93\n",
              "Process temperature [K]       82\n",
              "Rotational speed [rpm]       941\n",
              "Torque [Nm]                  577\n",
              "Tool wear [min]              246\n",
              "Target                         2\n",
              "Failure Type                   6\n",
              "dtype: int64"
            ]
          },
          "metadata": {},
          "execution_count": 12
        }
      ]
    },
    {
      "cell_type": "markdown",
      "source": [
        "Conclusion : The columns UDI, Product ID, are unique for each observation, which means they won't have an impact on the perfs.\n",
        "\n",
        "Therefore, we will drope them."
      ],
      "metadata": {
        "id": "cn1c7oGELMxr"
      }
    },
    {
      "cell_type": "code",
      "source": [
        "df.drop(['UDI', 'Product ID'], axis = 1, inplace = True)"
      ],
      "metadata": {
        "execution": {
          "iopub.status.busy": "2023-03-03T11:11:27.525476Z",
          "iopub.execute_input": "2023-03-03T11:11:27.525880Z",
          "iopub.status.idle": "2023-03-03T11:11:27.533393Z",
          "shell.execute_reply.started": "2023-03-03T11:11:27.525842Z",
          "shell.execute_reply": "2023-03-03T11:11:27.532203Z"
        },
        "trusted": true,
        "id": "5FcTmGSULMxs"
      },
      "execution_count": null,
      "outputs": []
    },
    {
      "cell_type": "markdown",
      "source": [],
      "metadata": {
        "id": "AQGC2SKZLMxs"
      }
    },
    {
      "cell_type": "code",
      "source": [
        "df.info()"
      ],
      "metadata": {
        "execution": {
          "iopub.status.busy": "2023-03-03T11:11:27.641332Z",
          "iopub.execute_input": "2023-03-03T11:11:27.642390Z",
          "iopub.status.idle": "2023-03-03T11:11:27.655937Z",
          "shell.execute_reply.started": "2023-03-03T11:11:27.642346Z",
          "shell.execute_reply": "2023-03-03T11:11:27.654436Z"
        },
        "trusted": true,
        "colab": {
          "base_uri": "https://localhost:8080/"
        },
        "id": "hGNPLjwULMxs",
        "outputId": "fba28f48-330a-4574-de0a-26b7cfa6e368"
      },
      "execution_count": null,
      "outputs": [
        {
          "output_type": "stream",
          "name": "stdout",
          "text": [
            "<class 'pandas.core.frame.DataFrame'>\n",
            "RangeIndex: 10000 entries, 0 to 9999\n",
            "Data columns (total 8 columns):\n",
            " #   Column                   Non-Null Count  Dtype  \n",
            "---  ------                   --------------  -----  \n",
            " 0   Type                     10000 non-null  object \n",
            " 1   Air temperature [K]      10000 non-null  float64\n",
            " 2   Process temperature [K]  10000 non-null  float64\n",
            " 3   Rotational speed [rpm]   10000 non-null  int64  \n",
            " 4   Torque [Nm]              10000 non-null  float64\n",
            " 5   Tool wear [min]          10000 non-null  int64  \n",
            " 6   Target                   10000 non-null  int64  \n",
            " 7   Failure Type             10000 non-null  object \n",
            "dtypes: float64(3), int64(3), object(2)\n",
            "memory usage: 625.1+ KB\n"
          ]
        }
      ]
    },
    {
      "cell_type": "markdown",
      "source": [
        "Now I want to check if Target is the same as Failure Type, if so, we should drop one of them nad keep only one as target, because, our model will overfit"
      ],
      "metadata": {
        "id": "t7UdZYAFLMxs"
      }
    },
    {
      "cell_type": "markdown",
      "source": [
        "A quick look:"
      ],
      "metadata": {
        "id": "0UC3RqUhLMxt"
      }
    },
    {
      "cell_type": "code",
      "source": [
        "df[['Target', 'Failure Type']]"
      ],
      "metadata": {
        "execution": {
          "iopub.status.busy": "2023-03-03T11:11:27.658296Z",
          "iopub.execute_input": "2023-03-03T11:11:27.658641Z",
          "iopub.status.idle": "2023-03-03T11:11:27.675188Z",
          "shell.execute_reply.started": "2023-03-03T11:11:27.658609Z",
          "shell.execute_reply": "2023-03-03T11:11:27.673879Z"
        },
        "trusted": true,
        "colab": {
          "base_uri": "https://localhost:8080/",
          "height": 423
        },
        "id": "vWsnmD7RLMxt",
        "outputId": "0129a385-5a1a-4b22-9d73-cdb373f6e7e4"
      },
      "execution_count": null,
      "outputs": [
        {
          "output_type": "execute_result",
          "data": {
            "text/plain": [
              "      Target Failure Type\n",
              "0          0   No Failure\n",
              "1          0   No Failure\n",
              "2          0   No Failure\n",
              "3          0   No Failure\n",
              "4          0   No Failure\n",
              "...      ...          ...\n",
              "9995       0   No Failure\n",
              "9996       0   No Failure\n",
              "9997       0   No Failure\n",
              "9998       0   No Failure\n",
              "9999       0   No Failure\n",
              "\n",
              "[10000 rows x 2 columns]"
            ],
            "text/html": [
              "\n",
              "  <div id=\"df-8f5a7564-2fd5-4475-89ed-9de284329688\">\n",
              "    <div class=\"colab-df-container\">\n",
              "      <div>\n",
              "<style scoped>\n",
              "    .dataframe tbody tr th:only-of-type {\n",
              "        vertical-align: middle;\n",
              "    }\n",
              "\n",
              "    .dataframe tbody tr th {\n",
              "        vertical-align: top;\n",
              "    }\n",
              "\n",
              "    .dataframe thead th {\n",
              "        text-align: right;\n",
              "    }\n",
              "</style>\n",
              "<table border=\"1\" class=\"dataframe\">\n",
              "  <thead>\n",
              "    <tr style=\"text-align: right;\">\n",
              "      <th></th>\n",
              "      <th>Target</th>\n",
              "      <th>Failure Type</th>\n",
              "    </tr>\n",
              "  </thead>\n",
              "  <tbody>\n",
              "    <tr>\n",
              "      <th>0</th>\n",
              "      <td>0</td>\n",
              "      <td>No Failure</td>\n",
              "    </tr>\n",
              "    <tr>\n",
              "      <th>1</th>\n",
              "      <td>0</td>\n",
              "      <td>No Failure</td>\n",
              "    </tr>\n",
              "    <tr>\n",
              "      <th>2</th>\n",
              "      <td>0</td>\n",
              "      <td>No Failure</td>\n",
              "    </tr>\n",
              "    <tr>\n",
              "      <th>3</th>\n",
              "      <td>0</td>\n",
              "      <td>No Failure</td>\n",
              "    </tr>\n",
              "    <tr>\n",
              "      <th>4</th>\n",
              "      <td>0</td>\n",
              "      <td>No Failure</td>\n",
              "    </tr>\n",
              "    <tr>\n",
              "      <th>...</th>\n",
              "      <td>...</td>\n",
              "      <td>...</td>\n",
              "    </tr>\n",
              "    <tr>\n",
              "      <th>9995</th>\n",
              "      <td>0</td>\n",
              "      <td>No Failure</td>\n",
              "    </tr>\n",
              "    <tr>\n",
              "      <th>9996</th>\n",
              "      <td>0</td>\n",
              "      <td>No Failure</td>\n",
              "    </tr>\n",
              "    <tr>\n",
              "      <th>9997</th>\n",
              "      <td>0</td>\n",
              "      <td>No Failure</td>\n",
              "    </tr>\n",
              "    <tr>\n",
              "      <th>9998</th>\n",
              "      <td>0</td>\n",
              "      <td>No Failure</td>\n",
              "    </tr>\n",
              "    <tr>\n",
              "      <th>9999</th>\n",
              "      <td>0</td>\n",
              "      <td>No Failure</td>\n",
              "    </tr>\n",
              "  </tbody>\n",
              "</table>\n",
              "<p>10000 rows × 2 columns</p>\n",
              "</div>\n",
              "      <button class=\"colab-df-convert\" onclick=\"convertToInteractive('df-8f5a7564-2fd5-4475-89ed-9de284329688')\"\n",
              "              title=\"Convert this dataframe to an interactive table.\"\n",
              "              style=\"display:none;\">\n",
              "        \n",
              "  <svg xmlns=\"http://www.w3.org/2000/svg\" height=\"24px\"viewBox=\"0 0 24 24\"\n",
              "       width=\"24px\">\n",
              "    <path d=\"M0 0h24v24H0V0z\" fill=\"none\"/>\n",
              "    <path d=\"M18.56 5.44l.94 2.06.94-2.06 2.06-.94-2.06-.94-.94-2.06-.94 2.06-2.06.94zm-11 1L8.5 8.5l.94-2.06 2.06-.94-2.06-.94L8.5 2.5l-.94 2.06-2.06.94zm10 10l.94 2.06.94-2.06 2.06-.94-2.06-.94-.94-2.06-.94 2.06-2.06.94z\"/><path d=\"M17.41 7.96l-1.37-1.37c-.4-.4-.92-.59-1.43-.59-.52 0-1.04.2-1.43.59L10.3 9.45l-7.72 7.72c-.78.78-.78 2.05 0 2.83L4 21.41c.39.39.9.59 1.41.59.51 0 1.02-.2 1.41-.59l7.78-7.78 2.81-2.81c.8-.78.8-2.07 0-2.86zM5.41 20L4 18.59l7.72-7.72 1.47 1.35L5.41 20z\"/>\n",
              "  </svg>\n",
              "      </button>\n",
              "      \n",
              "  <style>\n",
              "    .colab-df-container {\n",
              "      display:flex;\n",
              "      flex-wrap:wrap;\n",
              "      gap: 12px;\n",
              "    }\n",
              "\n",
              "    .colab-df-convert {\n",
              "      background-color: #E8F0FE;\n",
              "      border: none;\n",
              "      border-radius: 50%;\n",
              "      cursor: pointer;\n",
              "      display: none;\n",
              "      fill: #1967D2;\n",
              "      height: 32px;\n",
              "      padding: 0 0 0 0;\n",
              "      width: 32px;\n",
              "    }\n",
              "\n",
              "    .colab-df-convert:hover {\n",
              "      background-color: #E2EBFA;\n",
              "      box-shadow: 0px 1px 2px rgba(60, 64, 67, 0.3), 0px 1px 3px 1px rgba(60, 64, 67, 0.15);\n",
              "      fill: #174EA6;\n",
              "    }\n",
              "\n",
              "    [theme=dark] .colab-df-convert {\n",
              "      background-color: #3B4455;\n",
              "      fill: #D2E3FC;\n",
              "    }\n",
              "\n",
              "    [theme=dark] .colab-df-convert:hover {\n",
              "      background-color: #434B5C;\n",
              "      box-shadow: 0px 1px 3px 1px rgba(0, 0, 0, 0.15);\n",
              "      filter: drop-shadow(0px 1px 2px rgba(0, 0, 0, 0.3));\n",
              "      fill: #FFFFFF;\n",
              "    }\n",
              "  </style>\n",
              "\n",
              "      <script>\n",
              "        const buttonEl =\n",
              "          document.querySelector('#df-8f5a7564-2fd5-4475-89ed-9de284329688 button.colab-df-convert');\n",
              "        buttonEl.style.display =\n",
              "          google.colab.kernel.accessAllowed ? 'block' : 'none';\n",
              "\n",
              "        async function convertToInteractive(key) {\n",
              "          const element = document.querySelector('#df-8f5a7564-2fd5-4475-89ed-9de284329688');\n",
              "          const dataTable =\n",
              "            await google.colab.kernel.invokeFunction('convertToInteractive',\n",
              "                                                     [key], {});\n",
              "          if (!dataTable) return;\n",
              "\n",
              "          const docLinkHtml = 'Like what you see? Visit the ' +\n",
              "            '<a target=\"_blank\" href=https://colab.research.google.com/notebooks/data_table.ipynb>data table notebook</a>'\n",
              "            + ' to learn more about interactive tables.';\n",
              "          element.innerHTML = '';\n",
              "          dataTable['output_type'] = 'display_data';\n",
              "          await google.colab.output.renderOutput(dataTable, element);\n",
              "          const docLink = document.createElement('div');\n",
              "          docLink.innerHTML = docLinkHtml;\n",
              "          element.appendChild(docLink);\n",
              "        }\n",
              "      </script>\n",
              "    </div>\n",
              "  </div>\n",
              "  "
            ]
          },
          "metadata": {},
          "execution_count": 15
        }
      ]
    },
    {
      "cell_type": "markdown",
      "source": [
        "More details:"
      ],
      "metadata": {
        "id": "wJhx3_33LMxt"
      }
    },
    {
      "cell_type": "code",
      "source": [
        "df[['Target', 'Failure Type']].value_counts()"
      ],
      "metadata": {
        "execution": {
          "iopub.status.busy": "2023-03-03T11:11:27.676739Z",
          "iopub.execute_input": "2023-03-03T11:11:27.678022Z",
          "iopub.status.idle": "2023-03-03T11:11:27.695505Z",
          "shell.execute_reply.started": "2023-03-03T11:11:27.677963Z",
          "shell.execute_reply": "2023-03-03T11:11:27.694164Z"
        },
        "trusted": true,
        "colab": {
          "base_uri": "https://localhost:8080/"
        },
        "id": "0VRF9ci7LMxt",
        "outputId": "47b6b798-56c8-438b-bd80-6f665b821eef"
      },
      "execution_count": null,
      "outputs": [
        {
          "output_type": "execute_result",
          "data": {
            "text/plain": [
              "Target  Failure Type            \n",
              "0       No Failure                  9643\n",
              "1       Heat Dissipation Failure     112\n",
              "        Power Failure                 95\n",
              "        Overstrain Failure            78\n",
              "        Tool Wear Failure             45\n",
              "0       Random Failures               18\n",
              "1       No Failure                     9\n",
              "dtype: int64"
            ]
          },
          "metadata": {},
          "execution_count": 16
        }
      ]
    },
    {
      "cell_type": "code",
      "source": [
        "df['Target'].unique()"
      ],
      "metadata": {
        "execution": {
          "iopub.status.busy": "2023-03-03T11:11:27.697068Z",
          "iopub.execute_input": "2023-03-03T11:11:27.697888Z",
          "iopub.status.idle": "2023-03-03T11:11:27.706052Z",
          "shell.execute_reply.started": "2023-03-03T11:11:27.697843Z",
          "shell.execute_reply": "2023-03-03T11:11:27.704765Z"
        },
        "trusted": true,
        "colab": {
          "base_uri": "https://localhost:8080/"
        },
        "id": "9wIp19ykLMxu",
        "outputId": "a173f566-ea15-47cc-f881-9205a70e466f"
      },
      "execution_count": null,
      "outputs": [
        {
          "output_type": "execute_result",
          "data": {
            "text/plain": [
              "array([0, 1])"
            ]
          },
          "metadata": {},
          "execution_count": 17
        }
      ]
    },
    {
      "cell_type": "code",
      "source": [
        "df['Failure Type'].unique()"
      ],
      "metadata": {
        "execution": {
          "iopub.status.busy": "2023-03-03T11:11:27.710269Z",
          "iopub.execute_input": "2023-03-03T11:11:27.711323Z",
          "iopub.status.idle": "2023-03-03T11:11:27.720712Z",
          "shell.execute_reply.started": "2023-03-03T11:11:27.711255Z",
          "shell.execute_reply": "2023-03-03T11:11:27.719524Z"
        },
        "trusted": true,
        "colab": {
          "base_uri": "https://localhost:8080/"
        },
        "id": "Gqq7QWkFLMxu",
        "outputId": "344144eb-30b0-4d50-cc94-ffeea7146799"
      },
      "execution_count": null,
      "outputs": [
        {
          "output_type": "execute_result",
          "data": {
            "text/plain": [
              "array(['No Failure', 'Power Failure', 'Tool Wear Failure',\n",
              "       'Overstrain Failure', 'Random Failures',\n",
              "       'Heat Dissipation Failure'], dtype=object)"
            ]
          },
          "metadata": {},
          "execution_count": 18
        }
      ]
    },
    {
      "cell_type": "markdown",
      "source": [
        "Conclusion: they are not the same, in fact after reading description of the dataset, ew notice"
      ],
      "metadata": {
        "id": "m05g2cowLMxu"
      }
    },
    {
      "cell_type": "code",
      "source": [
        "df.loc[df['Failure Type'] == 'Power Failure', ['Target']].value_counts()"
      ],
      "metadata": {
        "execution": {
          "iopub.status.busy": "2023-03-03T11:11:27.722287Z",
          "iopub.execute_input": "2023-03-03T11:11:27.722689Z",
          "iopub.status.idle": "2023-03-03T11:11:27.737913Z",
          "shell.execute_reply.started": "2023-03-03T11:11:27.722645Z",
          "shell.execute_reply": "2023-03-03T11:11:27.736646Z"
        },
        "trusted": true,
        "colab": {
          "base_uri": "https://localhost:8080/"
        },
        "id": "Uz3FSUzXLMxu",
        "outputId": "9514e0ac-ddb1-4782-baad-292097ddf27b"
      },
      "execution_count": null,
      "outputs": [
        {
          "output_type": "execute_result",
          "data": {
            "text/plain": [
              "Target\n",
              "1         95\n",
              "dtype: int64"
            ]
          },
          "metadata": {},
          "execution_count": 19
        }
      ]
    },
    {
      "cell_type": "code",
      "source": [
        "df.loc[df['Failure Type'] == 'Overstrain Failure', ['Target']].value_counts()"
      ],
      "metadata": {
        "execution": {
          "iopub.status.busy": "2023-03-03T11:11:27.739113Z",
          "iopub.execute_input": "2023-03-03T11:11:27.739417Z",
          "iopub.status.idle": "2023-03-03T11:11:27.755755Z",
          "shell.execute_reply.started": "2023-03-03T11:11:27.739387Z",
          "shell.execute_reply": "2023-03-03T11:11:27.754849Z"
        },
        "trusted": true,
        "colab": {
          "base_uri": "https://localhost:8080/"
        },
        "id": "mT5eely6LMxv",
        "outputId": "b2577c15-a60f-4213-cfa8-b9e4074b8cb8"
      },
      "execution_count": null,
      "outputs": [
        {
          "output_type": "execute_result",
          "data": {
            "text/plain": [
              "Target\n",
              "1         78\n",
              "dtype: int64"
            ]
          },
          "metadata": {},
          "execution_count": 20
        }
      ]
    },
    {
      "cell_type": "code",
      "source": [
        "df.loc[df['Failure Type'] == 'Tool Wear Failure', ['Target']].value_counts()"
      ],
      "metadata": {
        "execution": {
          "iopub.status.busy": "2023-03-03T11:11:27.757279Z",
          "iopub.execute_input": "2023-03-03T11:11:27.757960Z",
          "iopub.status.idle": "2023-03-03T11:11:27.773693Z",
          "shell.execute_reply.started": "2023-03-03T11:11:27.757923Z",
          "shell.execute_reply": "2023-03-03T11:11:27.772705Z"
        },
        "trusted": true,
        "colab": {
          "base_uri": "https://localhost:8080/"
        },
        "id": "HKn8tOf0LMxv",
        "outputId": "6a8eea3f-76f7-4b01-c3e8-0ec1122ab479"
      },
      "execution_count": null,
      "outputs": [
        {
          "output_type": "execute_result",
          "data": {
            "text/plain": [
              "Target\n",
              "1         45\n",
              "dtype: int64"
            ]
          },
          "metadata": {},
          "execution_count": 21
        }
      ]
    },
    {
      "cell_type": "code",
      "source": [
        "df.loc[df['Failure Type'] == 'Random Failures'].Target.replace({0:1})"
      ],
      "metadata": {
        "execution": {
          "iopub.status.busy": "2023-03-03T11:11:27.775351Z",
          "iopub.execute_input": "2023-03-03T11:11:27.775743Z",
          "iopub.status.idle": "2023-03-03T11:11:27.787008Z",
          "shell.execute_reply.started": "2023-03-03T11:11:27.775701Z",
          "shell.execute_reply": "2023-03-03T11:11:27.785749Z"
        },
        "trusted": true,
        "colab": {
          "base_uri": "https://localhost:8080/"
        },
        "id": "7HCqRTSELMxv",
        "outputId": "e2ea3cb2-ded7-4c18-b5e4-08d99d69fed7"
      },
      "execution_count": null,
      "outputs": [
        {
          "output_type": "execute_result",
          "data": {
            "text/plain": [
              "1221    1\n",
              "1302    1\n",
              "1748    1\n",
              "2072    1\n",
              "2559    1\n",
              "3065    1\n",
              "3452    1\n",
              "5471    1\n",
              "5489    1\n",
              "5495    1\n",
              "5509    1\n",
              "5553    1\n",
              "5639    1\n",
              "6091    1\n",
              "6913    1\n",
              "6960    1\n",
              "7488    1\n",
              "7868    1\n",
              "Name: Target, dtype: int64"
            ]
          },
          "metadata": {},
          "execution_count": 22
        }
      ]
    },
    {
      "cell_type": "code",
      "source": [
        "df.loc[df['Failure Type'] == 'Random Failures', 'Target'] = 1"
      ],
      "metadata": {
        "execution": {
          "iopub.status.busy": "2023-03-03T11:11:27.788598Z",
          "iopub.execute_input": "2023-03-03T11:11:27.789010Z",
          "iopub.status.idle": "2023-03-03T11:11:27.800334Z",
          "shell.execute_reply.started": "2023-03-03T11:11:27.788973Z",
          "shell.execute_reply": "2023-03-03T11:11:27.799149Z"
        },
        "trusted": true,
        "id": "ayfSulduLMxv"
      },
      "execution_count": null,
      "outputs": []
    },
    {
      "cell_type": "code",
      "source": [
        "df.loc[df['Failure Type'] == 'Random Failures'].Target"
      ],
      "metadata": {
        "execution": {
          "iopub.status.busy": "2023-03-03T11:11:27.801827Z",
          "iopub.execute_input": "2023-03-03T11:11:27.802652Z",
          "iopub.status.idle": "2023-03-03T11:11:27.814725Z",
          "shell.execute_reply.started": "2023-03-03T11:11:27.802613Z",
          "shell.execute_reply": "2023-03-03T11:11:27.813784Z"
        },
        "trusted": true,
        "colab": {
          "base_uri": "https://localhost:8080/"
        },
        "id": "4wV5ndkyLMxw",
        "outputId": "80852aaf-af69-4611-d7a2-326d3e0f2af4"
      },
      "execution_count": null,
      "outputs": [
        {
          "output_type": "execute_result",
          "data": {
            "text/plain": [
              "1221    1\n",
              "1302    1\n",
              "1748    1\n",
              "2072    1\n",
              "2559    1\n",
              "3065    1\n",
              "3452    1\n",
              "5471    1\n",
              "5489    1\n",
              "5495    1\n",
              "5509    1\n",
              "5553    1\n",
              "5639    1\n",
              "6091    1\n",
              "6913    1\n",
              "6960    1\n",
              "7488    1\n",
              "7868    1\n",
              "Name: Target, dtype: int64"
            ]
          },
          "metadata": {},
          "execution_count": 24
        }
      ]
    },
    {
      "cell_type": "code",
      "source": [
        "df.loc[df['Failure Type'] == 'No Failure', 'Target'] = 0"
      ],
      "metadata": {
        "execution": {
          "iopub.status.busy": "2023-03-03T11:11:27.816129Z",
          "iopub.execute_input": "2023-03-03T11:11:27.816485Z",
          "iopub.status.idle": "2023-03-03T11:11:27.825541Z",
          "shell.execute_reply.started": "2023-03-03T11:11:27.816452Z",
          "shell.execute_reply": "2023-03-03T11:11:27.824565Z"
        },
        "trusted": true,
        "id": "P-y1LDRzLMxw"
      },
      "execution_count": null,
      "outputs": []
    },
    {
      "cell_type": "code",
      "source": [
        "df[['Target', 'Failure Type']].value_counts()"
      ],
      "metadata": {
        "execution": {
          "iopub.status.busy": "2023-03-03T11:11:27.826998Z",
          "iopub.execute_input": "2023-03-03T11:11:27.827353Z",
          "iopub.status.idle": "2023-03-03T11:11:27.844693Z",
          "shell.execute_reply.started": "2023-03-03T11:11:27.827321Z",
          "shell.execute_reply": "2023-03-03T11:11:27.843358Z"
        },
        "trusted": true,
        "colab": {
          "base_uri": "https://localhost:8080/"
        },
        "id": "jtNA8LWMLMxw",
        "outputId": "9f58dd0b-5545-4d90-d58f-29d1fdece7e8"
      },
      "execution_count": null,
      "outputs": [
        {
          "output_type": "execute_result",
          "data": {
            "text/plain": [
              "Target  Failure Type            \n",
              "0       No Failure                  9652\n",
              "1       Heat Dissipation Failure     112\n",
              "        Power Failure                 95\n",
              "        Overstrain Failure            78\n",
              "        Tool Wear Failure             45\n",
              "        Random Failures               18\n",
              "dtype: int64"
            ]
          },
          "metadata": {},
          "execution_count": 26
        }
      ]
    },
    {
      "cell_type": "code",
      "source": [
        "df.columns"
      ],
      "metadata": {
        "execution": {
          "iopub.status.busy": "2023-03-03T11:11:27.851252Z",
          "iopub.execute_input": "2023-03-03T11:11:27.852323Z",
          "iopub.status.idle": "2023-03-03T11:11:27.858642Z",
          "shell.execute_reply.started": "2023-03-03T11:11:27.852275Z",
          "shell.execute_reply": "2023-03-03T11:11:27.857751Z"
        },
        "trusted": true,
        "colab": {
          "base_uri": "https://localhost:8080/"
        },
        "id": "ujzSneOHLMxw",
        "outputId": "9c6abb89-9e43-44cc-9904-6fcf3e5f09ca"
      },
      "execution_count": null,
      "outputs": [
        {
          "output_type": "execute_result",
          "data": {
            "text/plain": [
              "Index(['Type', 'Air temperature [K]', 'Process temperature [K]',\n",
              "       'Rotational speed [rpm]', 'Torque [Nm]', 'Tool wear [min]', 'Target',\n",
              "       'Failure Type'],\n",
              "      dtype='object')"
            ]
          },
          "metadata": {},
          "execution_count": 27
        }
      ]
    },
    {
      "cell_type": "code",
      "source": [
        "df.info()"
      ],
      "metadata": {
        "execution": {
          "iopub.status.busy": "2023-03-03T11:11:27.860210Z",
          "iopub.execute_input": "2023-03-03T11:11:27.860607Z",
          "iopub.status.idle": "2023-03-03T11:11:27.880271Z",
          "shell.execute_reply.started": "2023-03-03T11:11:27.860572Z",
          "shell.execute_reply": "2023-03-03T11:11:27.878951Z"
        },
        "trusted": true,
        "colab": {
          "base_uri": "https://localhost:8080/"
        },
        "id": "SUaGZa5WLMxx",
        "outputId": "5345a324-e848-4cdd-9f92-74b655dc969b"
      },
      "execution_count": null,
      "outputs": [
        {
          "output_type": "stream",
          "name": "stdout",
          "text": [
            "<class 'pandas.core.frame.DataFrame'>\n",
            "RangeIndex: 10000 entries, 0 to 9999\n",
            "Data columns (total 8 columns):\n",
            " #   Column                   Non-Null Count  Dtype  \n",
            "---  ------                   --------------  -----  \n",
            " 0   Type                     10000 non-null  object \n",
            " 1   Air temperature [K]      10000 non-null  float64\n",
            " 2   Process temperature [K]  10000 non-null  float64\n",
            " 3   Rotational speed [rpm]   10000 non-null  int64  \n",
            " 4   Torque [Nm]              10000 non-null  float64\n",
            " 5   Tool wear [min]          10000 non-null  int64  \n",
            " 6   Target                   10000 non-null  int64  \n",
            " 7   Failure Type             10000 non-null  object \n",
            "dtypes: float64(3), int64(3), object(2)\n",
            "memory usage: 625.1+ KB\n"
          ]
        }
      ]
    },
    {
      "cell_type": "markdown",
      "source": [
        "Encoding category features"
      ],
      "metadata": {
        "id": "sx843VduLMxx"
      }
    },
    {
      "cell_type": "code",
      "source": [
        "df.drop(['Failure Type'], inplace = True, axis = 1)"
      ],
      "metadata": {
        "execution": {
          "iopub.status.busy": "2023-03-03T11:11:27.881594Z",
          "iopub.execute_input": "2023-03-03T11:11:27.882204Z",
          "iopub.status.idle": "2023-03-03T11:11:27.889079Z",
          "shell.execute_reply.started": "2023-03-03T11:11:27.882166Z",
          "shell.execute_reply": "2023-03-03T11:11:27.887485Z"
        },
        "trusted": true,
        "id": "Vbeg3G2ILMxx"
      },
      "execution_count": null,
      "outputs": []
    },
    {
      "cell_type": "markdown",
      "source": [
        "Encoding"
      ],
      "metadata": {
        "id": "a2OdUpjiLMxx"
      }
    },
    {
      "cell_type": "code",
      "source": [
        "from sklearn.preprocessing import LabelEncoder, StandardScaler"
      ],
      "metadata": {
        "execution": {
          "iopub.status.busy": "2023-03-03T11:11:27.891830Z",
          "iopub.execute_input": "2023-03-03T11:11:27.892704Z",
          "iopub.status.idle": "2023-03-03T11:11:27.899132Z",
          "shell.execute_reply.started": "2023-03-03T11:11:27.892620Z",
          "shell.execute_reply": "2023-03-03T11:11:27.898137Z"
        },
        "trusted": true,
        "id": "wjj0BjH9LMxy"
      },
      "execution_count": null,
      "outputs": []
    },
    {
      "cell_type": "code",
      "source": [
        "scaler=StandardScaler()"
      ],
      "metadata": {
        "execution": {
          "iopub.status.busy": "2023-03-03T11:11:27.900442Z",
          "iopub.execute_input": "2023-03-03T11:11:27.901701Z",
          "iopub.status.idle": "2023-03-03T11:11:27.911768Z",
          "shell.execute_reply.started": "2023-03-03T11:11:27.901623Z",
          "shell.execute_reply": "2023-03-03T11:11:27.910763Z"
        },
        "trusted": true,
        "id": "6Johyq9OLMxy"
      },
      "execution_count": null,
      "outputs": []
    },
    {
      "cell_type": "code",
      "source": [
        "df"
      ],
      "metadata": {
        "execution": {
          "iopub.status.busy": "2023-03-03T11:11:27.913209Z",
          "iopub.execute_input": "2023-03-03T11:11:27.914318Z",
          "iopub.status.idle": "2023-03-03T11:11:27.939385Z",
          "shell.execute_reply.started": "2023-03-03T11:11:27.914268Z",
          "shell.execute_reply": "2023-03-03T11:11:27.937866Z"
        },
        "trusted": true,
        "colab": {
          "base_uri": "https://localhost:8080/",
          "height": 423
        },
        "id": "rVvvpt1hLMxy",
        "outputId": "539c38cc-8c0d-4aa5-dfdd-5dd5cf0c8bad"
      },
      "execution_count": null,
      "outputs": [
        {
          "output_type": "execute_result",
          "data": {
            "text/plain": [
              "     Type  Air temperature [K]  Process temperature [K]  \\\n",
              "0       M                298.1                    308.6   \n",
              "1       L                298.2                    308.7   \n",
              "2       L                298.1                    308.5   \n",
              "3       L                298.2                    308.6   \n",
              "4       L                298.2                    308.7   \n",
              "...   ...                  ...                      ...   \n",
              "9995    M                298.8                    308.4   \n",
              "9996    H                298.9                    308.4   \n",
              "9997    M                299.0                    308.6   \n",
              "9998    H                299.0                    308.7   \n",
              "9999    M                299.0                    308.7   \n",
              "\n",
              "      Rotational speed [rpm]  Torque [Nm]  Tool wear [min]  Target  \n",
              "0                       1551         42.8                0       0  \n",
              "1                       1408         46.3                3       0  \n",
              "2                       1498         49.4                5       0  \n",
              "3                       1433         39.5                7       0  \n",
              "4                       1408         40.0                9       0  \n",
              "...                      ...          ...              ...     ...  \n",
              "9995                    1604         29.5               14       0  \n",
              "9996                    1632         31.8               17       0  \n",
              "9997                    1645         33.4               22       0  \n",
              "9998                    1408         48.5               25       0  \n",
              "9999                    1500         40.2               30       0  \n",
              "\n",
              "[10000 rows x 7 columns]"
            ],
            "text/html": [
              "\n",
              "  <div id=\"df-8aa2d64a-0f36-4237-9f3c-b9443692fd5b\">\n",
              "    <div class=\"colab-df-container\">\n",
              "      <div>\n",
              "<style scoped>\n",
              "    .dataframe tbody tr th:only-of-type {\n",
              "        vertical-align: middle;\n",
              "    }\n",
              "\n",
              "    .dataframe tbody tr th {\n",
              "        vertical-align: top;\n",
              "    }\n",
              "\n",
              "    .dataframe thead th {\n",
              "        text-align: right;\n",
              "    }\n",
              "</style>\n",
              "<table border=\"1\" class=\"dataframe\">\n",
              "  <thead>\n",
              "    <tr style=\"text-align: right;\">\n",
              "      <th></th>\n",
              "      <th>Type</th>\n",
              "      <th>Air temperature [K]</th>\n",
              "      <th>Process temperature [K]</th>\n",
              "      <th>Rotational speed [rpm]</th>\n",
              "      <th>Torque [Nm]</th>\n",
              "      <th>Tool wear [min]</th>\n",
              "      <th>Target</th>\n",
              "    </tr>\n",
              "  </thead>\n",
              "  <tbody>\n",
              "    <tr>\n",
              "      <th>0</th>\n",
              "      <td>M</td>\n",
              "      <td>298.1</td>\n",
              "      <td>308.6</td>\n",
              "      <td>1551</td>\n",
              "      <td>42.8</td>\n",
              "      <td>0</td>\n",
              "      <td>0</td>\n",
              "    </tr>\n",
              "    <tr>\n",
              "      <th>1</th>\n",
              "      <td>L</td>\n",
              "      <td>298.2</td>\n",
              "      <td>308.7</td>\n",
              "      <td>1408</td>\n",
              "      <td>46.3</td>\n",
              "      <td>3</td>\n",
              "      <td>0</td>\n",
              "    </tr>\n",
              "    <tr>\n",
              "      <th>2</th>\n",
              "      <td>L</td>\n",
              "      <td>298.1</td>\n",
              "      <td>308.5</td>\n",
              "      <td>1498</td>\n",
              "      <td>49.4</td>\n",
              "      <td>5</td>\n",
              "      <td>0</td>\n",
              "    </tr>\n",
              "    <tr>\n",
              "      <th>3</th>\n",
              "      <td>L</td>\n",
              "      <td>298.2</td>\n",
              "      <td>308.6</td>\n",
              "      <td>1433</td>\n",
              "      <td>39.5</td>\n",
              "      <td>7</td>\n",
              "      <td>0</td>\n",
              "    </tr>\n",
              "    <tr>\n",
              "      <th>4</th>\n",
              "      <td>L</td>\n",
              "      <td>298.2</td>\n",
              "      <td>308.7</td>\n",
              "      <td>1408</td>\n",
              "      <td>40.0</td>\n",
              "      <td>9</td>\n",
              "      <td>0</td>\n",
              "    </tr>\n",
              "    <tr>\n",
              "      <th>...</th>\n",
              "      <td>...</td>\n",
              "      <td>...</td>\n",
              "      <td>...</td>\n",
              "      <td>...</td>\n",
              "      <td>...</td>\n",
              "      <td>...</td>\n",
              "      <td>...</td>\n",
              "    </tr>\n",
              "    <tr>\n",
              "      <th>9995</th>\n",
              "      <td>M</td>\n",
              "      <td>298.8</td>\n",
              "      <td>308.4</td>\n",
              "      <td>1604</td>\n",
              "      <td>29.5</td>\n",
              "      <td>14</td>\n",
              "      <td>0</td>\n",
              "    </tr>\n",
              "    <tr>\n",
              "      <th>9996</th>\n",
              "      <td>H</td>\n",
              "      <td>298.9</td>\n",
              "      <td>308.4</td>\n",
              "      <td>1632</td>\n",
              "      <td>31.8</td>\n",
              "      <td>17</td>\n",
              "      <td>0</td>\n",
              "    </tr>\n",
              "    <tr>\n",
              "      <th>9997</th>\n",
              "      <td>M</td>\n",
              "      <td>299.0</td>\n",
              "      <td>308.6</td>\n",
              "      <td>1645</td>\n",
              "      <td>33.4</td>\n",
              "      <td>22</td>\n",
              "      <td>0</td>\n",
              "    </tr>\n",
              "    <tr>\n",
              "      <th>9998</th>\n",
              "      <td>H</td>\n",
              "      <td>299.0</td>\n",
              "      <td>308.7</td>\n",
              "      <td>1408</td>\n",
              "      <td>48.5</td>\n",
              "      <td>25</td>\n",
              "      <td>0</td>\n",
              "    </tr>\n",
              "    <tr>\n",
              "      <th>9999</th>\n",
              "      <td>M</td>\n",
              "      <td>299.0</td>\n",
              "      <td>308.7</td>\n",
              "      <td>1500</td>\n",
              "      <td>40.2</td>\n",
              "      <td>30</td>\n",
              "      <td>0</td>\n",
              "    </tr>\n",
              "  </tbody>\n",
              "</table>\n",
              "<p>10000 rows × 7 columns</p>\n",
              "</div>\n",
              "      <button class=\"colab-df-convert\" onclick=\"convertToInteractive('df-8aa2d64a-0f36-4237-9f3c-b9443692fd5b')\"\n",
              "              title=\"Convert this dataframe to an interactive table.\"\n",
              "              style=\"display:none;\">\n",
              "        \n",
              "  <svg xmlns=\"http://www.w3.org/2000/svg\" height=\"24px\"viewBox=\"0 0 24 24\"\n",
              "       width=\"24px\">\n",
              "    <path d=\"M0 0h24v24H0V0z\" fill=\"none\"/>\n",
              "    <path d=\"M18.56 5.44l.94 2.06.94-2.06 2.06-.94-2.06-.94-.94-2.06-.94 2.06-2.06.94zm-11 1L8.5 8.5l.94-2.06 2.06-.94-2.06-.94L8.5 2.5l-.94 2.06-2.06.94zm10 10l.94 2.06.94-2.06 2.06-.94-2.06-.94-.94-2.06-.94 2.06-2.06.94z\"/><path d=\"M17.41 7.96l-1.37-1.37c-.4-.4-.92-.59-1.43-.59-.52 0-1.04.2-1.43.59L10.3 9.45l-7.72 7.72c-.78.78-.78 2.05 0 2.83L4 21.41c.39.39.9.59 1.41.59.51 0 1.02-.2 1.41-.59l7.78-7.78 2.81-2.81c.8-.78.8-2.07 0-2.86zM5.41 20L4 18.59l7.72-7.72 1.47 1.35L5.41 20z\"/>\n",
              "  </svg>\n",
              "      </button>\n",
              "      \n",
              "  <style>\n",
              "    .colab-df-container {\n",
              "      display:flex;\n",
              "      flex-wrap:wrap;\n",
              "      gap: 12px;\n",
              "    }\n",
              "\n",
              "    .colab-df-convert {\n",
              "      background-color: #E8F0FE;\n",
              "      border: none;\n",
              "      border-radius: 50%;\n",
              "      cursor: pointer;\n",
              "      display: none;\n",
              "      fill: #1967D2;\n",
              "      height: 32px;\n",
              "      padding: 0 0 0 0;\n",
              "      width: 32px;\n",
              "    }\n",
              "\n",
              "    .colab-df-convert:hover {\n",
              "      background-color: #E2EBFA;\n",
              "      box-shadow: 0px 1px 2px rgba(60, 64, 67, 0.3), 0px 1px 3px 1px rgba(60, 64, 67, 0.15);\n",
              "      fill: #174EA6;\n",
              "    }\n",
              "\n",
              "    [theme=dark] .colab-df-convert {\n",
              "      background-color: #3B4455;\n",
              "      fill: #D2E3FC;\n",
              "    }\n",
              "\n",
              "    [theme=dark] .colab-df-convert:hover {\n",
              "      background-color: #434B5C;\n",
              "      box-shadow: 0px 1px 3px 1px rgba(0, 0, 0, 0.15);\n",
              "      filter: drop-shadow(0px 1px 2px rgba(0, 0, 0, 0.3));\n",
              "      fill: #FFFFFF;\n",
              "    }\n",
              "  </style>\n",
              "\n",
              "      <script>\n",
              "        const buttonEl =\n",
              "          document.querySelector('#df-8aa2d64a-0f36-4237-9f3c-b9443692fd5b button.colab-df-convert');\n",
              "        buttonEl.style.display =\n",
              "          google.colab.kernel.accessAllowed ? 'block' : 'none';\n",
              "\n",
              "        async function convertToInteractive(key) {\n",
              "          const element = document.querySelector('#df-8aa2d64a-0f36-4237-9f3c-b9443692fd5b');\n",
              "          const dataTable =\n",
              "            await google.colab.kernel.invokeFunction('convertToInteractive',\n",
              "                                                     [key], {});\n",
              "          if (!dataTable) return;\n",
              "\n",
              "          const docLinkHtml = 'Like what you see? Visit the ' +\n",
              "            '<a target=\"_blank\" href=https://colab.research.google.com/notebooks/data_table.ipynb>data table notebook</a>'\n",
              "            + ' to learn more about interactive tables.';\n",
              "          element.innerHTML = '';\n",
              "          dataTable['output_type'] = 'display_data';\n",
              "          await google.colab.output.renderOutput(dataTable, element);\n",
              "          const docLink = document.createElement('div');\n",
              "          docLink.innerHTML = docLinkHtml;\n",
              "          element.appendChild(docLink);\n",
              "        }\n",
              "      </script>\n",
              "    </div>\n",
              "  </div>\n",
              "  "
            ]
          },
          "metadata": {},
          "execution_count": 32
        }
      ]
    },
    {
      "cell_type": "code",
      "source": [
        "encoder = LabelEncoder()"
      ],
      "metadata": {
        "execution": {
          "iopub.status.busy": "2023-03-03T11:11:27.941144Z",
          "iopub.execute_input": "2023-03-03T11:11:27.942248Z",
          "iopub.status.idle": "2023-03-03T11:11:27.948318Z",
          "shell.execute_reply.started": "2023-03-03T11:11:27.942196Z",
          "shell.execute_reply": "2023-03-03T11:11:27.946738Z"
        },
        "trusted": true,
        "id": "D3lwB6IoLMxy"
      },
      "execution_count": null,
      "outputs": []
    },
    {
      "cell_type": "code",
      "source": [
        "df.Type = encoder.fit_transform(df.Type)"
      ],
      "metadata": {
        "execution": {
          "iopub.status.busy": "2023-03-03T11:11:27.949795Z",
          "iopub.execute_input": "2023-03-03T11:11:27.950159Z",
          "iopub.status.idle": "2023-03-03T11:11:27.964970Z",
          "shell.execute_reply.started": "2023-03-03T11:11:27.950125Z",
          "shell.execute_reply": "2023-03-03T11:11:27.963724Z"
        },
        "trusted": true,
        "id": "C9zfdJSkLMxy"
      },
      "execution_count": null,
      "outputs": []
    },
    {
      "cell_type": "markdown",
      "source": [
        "encoder.fit_"
      ],
      "metadata": {
        "id": "JOTOOQgeLMxz"
      }
    },
    {
      "cell_type": "markdown",
      "source": [],
      "metadata": {
        "id": "t8TPBQejLMxz"
      }
    },
    {
      "cell_type": "code",
      "source": [
        "import matplotlib.pyplot as plt"
      ],
      "metadata": {
        "execution": {
          "iopub.status.busy": "2023-03-03T11:11:27.966874Z",
          "iopub.execute_input": "2023-03-03T11:11:27.967725Z",
          "iopub.status.idle": "2023-03-03T11:11:27.976710Z",
          "shell.execute_reply.started": "2023-03-03T11:11:27.967681Z",
          "shell.execute_reply": "2023-03-03T11:11:27.975587Z"
        },
        "trusted": true,
        "id": "a0zNpmNlLMxz"
      },
      "execution_count": null,
      "outputs": []
    },
    {
      "cell_type": "code",
      "source": [
        "X = df.copy() # X contains the data without the target variable\n",
        "y = X.pop('Target')# Y contains the target variable"
      ],
      "metadata": {
        "execution": {
          "iopub.status.busy": "2023-03-03T11:11:27.977801Z",
          "iopub.execute_input": "2023-03-03T11:11:27.978556Z",
          "iopub.status.idle": "2023-03-03T11:11:27.990284Z",
          "shell.execute_reply.started": "2023-03-03T11:11:27.978518Z",
          "shell.execute_reply": "2023-03-03T11:11:27.989264Z"
        },
        "trusted": true,
        "id": "W4ST1uhaLMxz"
      },
      "execution_count": null,
      "outputs": []
    },
    {
      "cell_type": "code",
      "source": [
        "X = pd.DataFrame(data=scaler.fit_transform(X), columns = df.columns[:-1])"
      ],
      "metadata": {
        "execution": {
          "iopub.status.busy": "2023-03-03T11:12:01.622126Z",
          "iopub.execute_input": "2023-03-03T11:12:01.622560Z",
          "iopub.status.idle": "2023-03-03T11:12:01.634074Z",
          "shell.execute_reply.started": "2023-03-03T11:12:01.622513Z",
          "shell.execute_reply": "2023-03-03T11:12:01.632995Z"
        },
        "trusted": true,
        "id": "eZWFC9IfLMx0"
      },
      "execution_count": null,
      "outputs": []
    },
    {
      "cell_type": "code",
      "source": [
        "#visualize the data distribution\n",
        "plt.hist(X, density = True)"
      ],
      "metadata": {
        "execution": {
          "iopub.status.busy": "2023-03-03T11:12:04.191800Z",
          "iopub.execute_input": "2023-03-03T11:12:04.192457Z",
          "iopub.status.idle": "2023-03-03T11:12:04.517222Z",
          "shell.execute_reply.started": "2023-03-03T11:12:04.192418Z",
          "shell.execute_reply": "2023-03-03T11:12:04.515933Z"
        },
        "trusted": true,
        "colab": {
          "base_uri": "https://localhost:8080/",
          "height": 557
        },
        "id": "ouTGbHd1LMx0",
        "outputId": "8eb746b6-3a41-4a39-99c3-d5ee33d3c982"
      },
      "execution_count": null,
      "outputs": [
        {
          "output_type": "execute_result",
          "data": {
            "text/plain": [
              "(array([[0.        , 0.0899956 , 0.53835852, 0.        , 0.26891008,\n",
              "         0.        , 0.        , 0.        , 0.        , 0.        ],\n",
              "        [0.        , 0.05948862, 0.32427128, 0.30336503, 0.19111728,\n",
              "         0.019022  , 0.        , 0.        , 0.        , 0.        ],\n",
              "        [0.0061014 , 0.06693591, 0.28308686, 0.35397073, 0.16070002,\n",
              "         0.02646929, 0.        , 0.        , 0.        , 0.        ],\n",
              "        [0.        , 0.01310006, 0.39398871, 0.35773924, 0.09232849,\n",
              "         0.02575148, 0.00834456, 0.00287125, 0.00197398, 0.00116644],\n",
              "        [0.00511441, 0.06855099, 0.27366558, 0.36958313, 0.15648288,\n",
              "         0.02279051, 0.00107672, 0.        , 0.        , 0.        ],\n",
              "        [0.        , 0.08362502, 0.29026497, 0.29116224, 0.22907155,\n",
              "         0.00314042, 0.        , 0.        , 0.        , 0.        ]]),\n",
              " array([-3.63014947, -2.51565054, -1.40115161, -0.28665268,  0.82784625,\n",
              "         1.94234518,  3.05684411,  4.17134305,  5.28584198,  6.40034091,\n",
              "         7.51483984]),\n",
              " <a list of 6 BarContainer objects>)"
            ]
          },
          "metadata": {},
          "execution_count": 38
        },
        {
          "output_type": "display_data",
          "data": {
            "text/plain": [
              "<Figure size 432x288 with 1 Axes>"
            ],
            "image/png": "[encoded data removed]"
          },
          "metadata": {
            "needs_background": "light"
          }
        }
      ]
    },
    {
      "cell_type": "code",
      "source": [
        "y.value_counts()"
      ],
      "metadata": {
        "execution": {
          "iopub.status.busy": "2023-03-03T11:12:22.803029Z",
          "iopub.execute_input": "2023-03-03T11:12:22.803835Z",
          "iopub.status.idle": "2023-03-03T11:12:22.814532Z",
          "shell.execute_reply.started": "2023-03-03T11:12:22.803775Z",
          "shell.execute_reply": "2023-03-03T11:12:22.813209Z"
        },
        "trusted": true,
        "colab": {
          "base_uri": "https://localhost:8080/"
        },
        "id": "AO8fEc_ZLMx0",
        "outputId": "2098cac0-dc80-4efa-cdce-8f6ce77c5783"
      },
      "execution_count": null,
      "outputs": [
        {
          "output_type": "execute_result",
          "data": {
            "text/plain": [
              "0    9652\n",
              "1     348\n",
              "Name: Target, dtype: int64"
            ]
          },
          "metadata": {},
          "execution_count": 39
        }
      ]
    },
    {
      "cell_type": "markdown",
      "source": [
        "Split train test"
      ],
      "metadata": {
        "id": "H82rRTRwLMx0"
      }
    },
    {
      "cell_type": "code",
      "source": [
        "#we split the data into train, test\n",
        "from sklearn.model_selection import train_test_split\n",
        "# Split into training and testing sets\n",
        "X_train, X_test, y_train, y_test = train_test_split(X, y, test_size=0.2, random_state=42)\n",
        "\n",
        "print(\"Training set shape:\", X_train.shape, y_train.shape)\n",
        "print(\"Testing set shape:\", X_test.shape, y_test.shape)"
      ],
      "metadata": {
        "colab": {
          "base_uri": "https://localhost:8080/"
        },
        "id": "pVnBr583LdIL",
        "outputId": "b81ac9fc-af20-4665-9abe-53d287335f0c"
      },
      "execution_count": null,
      "outputs": [
        {
          "output_type": "stream",
          "name": "stdout",
          "text": [
            "Training set shape: (8000, 6) (8000,)\n",
            "Testing set shape: (2000, 6) (2000,)\n"
          ]
        }
      ]
    },
    {
      "cell_type": "markdown",
      "source": [
        "### **Chosing models**"
      ],
      "metadata": {
        "id": "exPtrhGWLMx1"
      }
    },
    {
      "cell_type": "markdown",
      "source": [
        "**Random forest classifier**"
      ],
      "metadata": {
        "id": "jFT_qQCDN7NV"
      }
    },
    {
      "cell_type": "code",
      "source": [
        "from sklearn.ensemble import RandomForestClassifier\n",
        "from sklearn.metrics import accuracy_score,precision_score,confusion_matrix\n",
        "\n",
        "rfc = RandomForestClassifier(random_state=42)\n",
        "# Train the classifier on the training data\n",
        "rfc.fit(X_train, y_train)\n",
        "\n",
        "# Use the classifier to make predictions on the testing data\n",
        "y_pred = rfc.predict(X_test)\n",
        "\n",
        "# Evaluate the accuracy of the classifier\n",
        "accuracy = accuracy_score(y_test, y_pred)\n",
        "\n",
        "precision = precision_score(y_test, y_pred)\n",
        "print(\"Accuracy:\", accuracy)\n",
        "print(\"Precision:\", precision)\n"
      ],
      "metadata": {
        "colab": {
          "base_uri": "https://localhost:8080/"
        },
        "id": "M2ogvxqnLMx1",
        "outputId": "88bbc736-5059-4cac-eb9e-b1b499c7f474"
      },
      "execution_count": null,
      "outputs": [
        {
          "output_type": "stream",
          "name": "stdout",
          "text": [
            "Accuracy: 0.983\n",
            "Precision: 0.8604651162790697\n"
          ]
        }
      ]
    },
    {
      "cell_type": "code",
      "source": [
        "#plot the heatmap for the RF classifier\n",
        "import seaborn as sns\n",
        "# Calculate the confusion matrix\n",
        "cm = confusion_matrix(y_test, y_pred)\n",
        "\n",
        "sns.heatmap(cm, annot=True, cmap=\"Blues\")"
      ],
      "metadata": {
        "colab": {
          "base_uri": "https://localhost:8080/",
          "height": 283
        },
        "id": "S7j1BspTP4iv",
        "outputId": "6335f5ff-2538-441f-b90f-a3565ed7ebe1"
      },
      "execution_count": null,
      "outputs": [
        {
          "output_type": "execute_result",
          "data": {
            "text/plain": [
              "<AxesSubplot:>"
            ]
          },
          "metadata": {},
          "execution_count": 42
        },
        {
          "output_type": "display_data",
          "data": {
            "text/plain": [
              "<Figure size 432x288 with 2 Axes>"
            ],
            "image/png": "[encoded data removed]"
          },
          "metadata": {
            "needs_background": "light"
          }
        }
      ]
    },
    {
      "cell_type": "markdown",
      "source": [
        "SVM classifier"
      ],
      "metadata": {
        "id": "JYq0pjhxRs_E"
      }
    },
    {
      "cell_type": "code",
      "source": [
        "from sklearn.svm import SVC\n",
        "\n",
        "# Create an SVM classifier with an RBF kernel\n",
        "svm = SVC(kernel='rbf')\n",
        "\n",
        "# Train the classifier on the training data\n",
        "svm.fit(X_train, y_train)\n",
        "\n",
        "# Predict the labels of the test data\n",
        "y_pred = svm.predict(X_test)\n",
        "\n",
        "# Evaluate the performance of the classifier\n",
        "accuracy = accuracy_score(y_test, y_pred)\n",
        "print(\"accuracy\", accuracy)\n",
        "precision = precision_score(y_test, y_pred)\n",
        "print(\"Precision:\", precision)\n"
      ],
      "metadata": {
        "colab": {
          "base_uri": "https://localhost:8080/"
        },
        "id": "5GDT3lp3RfJc",
        "outputId": "44279e09-076d-4c38-ed70-3ae88fd1680e"
      },
      "execution_count": null,
      "outputs": [
        {
          "output_type": "stream",
          "name": "stdout",
          "text": [
            "accuracy 0.975\n",
            "Precision: 0.8571428571428571\n"
          ]
        }
      ]
    },
    {
      "cell_type": "code",
      "source": [
        "#plot the heatmap for the RF classifier\n",
        "import seaborn as sns\n",
        "# Calculate the confusion matrix\n",
        "cm = confusion_matrix(y_test, y_pred)\n",
        "sns.heatmap(cm, annot=True, cmap=\"Blues\")"
      ],
      "metadata": {
        "colab": {
          "base_uri": "https://localhost:8080/",
          "height": 283
        },
        "id": "pslMuUD1U9P8",
        "outputId": "d247d69d-6d60-4497-b3c6-a0f19cb81337"
      },
      "execution_count": null,
      "outputs": [
        {
          "output_type": "execute_result",
          "data": {
            "text/plain": [
              "<AxesSubplot:>"
            ]
          },
          "metadata": {},
          "execution_count": 44
        },
        {
          "output_type": "display_data",
          "data": {
            "text/plain": [
              "<Figure size 432x288 with 2 Axes>"
            ],
            "image/png": "[encoded data removed]"
          },
          "metadata": {
            "needs_background": "light"
          }
        }
      ]
    },
    {
      "cell_type": "markdown",
      "source": [
        "**Logistic regression model**"
      ],
      "metadata": {
        "id": "hT3Cq4cirGsF"
      }
    },
    {
      "cell_type": "code",
      "source": [
        "from sklearn.linear_model import LogisticRegression\n",
        "\n",
        "\n",
        "lr = LogisticRegression(random_state=42)\n",
        "\n",
        "# Train the classifier on the training data\n",
        "lr.fit(X_train, y_train)\n",
        "\n",
        "# Use the classifier to make predictions on the testing data\n",
        "y_pred = lr.predict(X_test)\n",
        "\n",
        "# Evaluate the accuracy of the classifier\n",
        "accuracy = accuracy_score(y_test, y_pred)\n",
        "precision = precision_score(y_test, y_pred)\n",
        "\n",
        "\n",
        "print(\"Accuracy:\", accuracy)\n",
        "print(\"Precision:\", precision)\n"
      ],
      "metadata": {
        "colab": {
          "base_uri": "https://localhost:8080/"
        },
        "id": "0L17_Yy6rGPF",
        "outputId": "3082f3f9-b8a1-4e3f-c07a-b0e0931ac5e4"
      },
      "execution_count": null,
      "outputs": [
        {
          "output_type": "stream",
          "name": "stdout",
          "text": [
            "Accuracy: 0.971\n",
            "Precision: 0.64\n"
          ]
        }
      ]
    },
    {
      "cell_type": "markdown",
      "source": [
        "**A deep learning network**\n",
        "\n",
        "\n",
        "\n",
        "\n",
        "we insert  dropout layers of rate 50% so as to avoid the overfitting problems especially that deeplearners suffer form that"
      ],
      "metadata": {
        "id": "_oyXB0a9UvKc"
      }
    },
    {
      "cell_type": "code",
      "source": [
        "import tensorflow as tf\n",
        "from tensorflow.keras.models import Sequential\n",
        "from tensorflow.keras.layers import Dense,Dropout\n",
        "\n",
        "# Create a sequential model\n",
        "model = Sequential()\n",
        "\n",
        "# Add a dense layer with 64 neurons and relu activation (input layer)\n",
        "model.add(Dense(64, activation='relu', input_shape=(X_train.shape[1],)))\n",
        "#add a dropout layer \n",
        "model.add(Dropout(0.5))\n",
        "# Add a dense layer with 32 neurons and relu activation (hidden layer)\n",
        "model.add(Dense(32, activation='relu'))\n",
        "# Add a dropout layer with a rate of 0.5\n",
        "model.add(Dropout(0.5))\n",
        "# Add a dense layer with 1 neuron and sigmoid activation(output layer)\n",
        "model.add(Dense(1, activation='sigmoid'))\n",
        "\n",
        "# Compile the model with bce loss and Adam optimizer\n",
        "model.compile(loss='binary_crossentropy', optimizer='adam', metrics=['accuracy'])\n",
        "\n",
        "# Train the model on the training data for 5 epochs\n",
        "model.fit(X_train, y_train, epochs=5, batch_size=32, validation_data=(X_test, y_test))\n",
        "\n",
        "# Predict the labels of the test data\n",
        "y_pred = model.predict(X_test)\n",
        "\n",
        "y_pred = [1 if p >= 0.5 else 0 for p in y_pred]\n",
        "# Evaluate the performance of the classifier\n",
        "accuracy = accuracy_score(y_test, y_pred)\n",
        "print('accuracy',accuracy)"
      ],
      "metadata": {
        "colab": {
          "base_uri": "https://localhost:8080/"
        },
        "id": "bEU8QjCAUuWr",
        "outputId": "1f220c33-09b5-4a82-8076-bb723396ac3c"
      },
      "execution_count": null,
      "outputs": [
        {
          "output_type": "stream",
          "name": "stdout",
          "text": [
            "Epoch 1/5\n",
            "250/250 [==============================] - 6s 4ms/step - loss: 0.2722 - accuracy: 0.9381 - val_loss: 0.1566 - val_accuracy: 0.9675\n",
            "Epoch 2/5\n",
            "250/250 [==============================] - 1s 3ms/step - loss: 0.1719 - accuracy: 0.9647 - val_loss: 0.1295 - val_accuracy: 0.9675\n",
            "Epoch 3/5\n",
            "250/250 [==============================] - 1s 4ms/step - loss: 0.1531 - accuracy: 0.9646 - val_loss: 0.1137 - val_accuracy: 0.9675\n",
            "Epoch 4/5\n",
            "250/250 [==============================] - 1s 5ms/step - loss: 0.1351 - accuracy: 0.9653 - val_loss: 0.1046 - val_accuracy: 0.9675\n",
            "Epoch 5/5\n",
            "250/250 [==============================] - 1s 5ms/step - loss: 0.1263 - accuracy: 0.9646 - val_loss: 0.1017 - val_accuracy: 0.9695\n",
            "63/63 [==============================] - 0s 3ms/step\n",
            "accuracy 0.9695\n"
          ]
        }
      ]
    }
  ]
}